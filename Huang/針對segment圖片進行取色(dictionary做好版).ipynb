{
 "cells": [
  {
   "cell_type": "code",
   "execution_count": 25,
   "id": "72ffff94-b531-4e07-bbad-10f00ed35e0e",
   "metadata": {},
   "outputs": [
    {
     "name": "stdout",
     "output_type": "stream",
     "text": [
      "{1: 'face', 2: 'hair', 3: 'eye', 4: 'eye'}\n",
      "{'face': [253, 224, 201], 'hair': [130, 97, 103], 'eye': [6, 50, 85]}\n"
     ]
    },
    {
     "data": {
      "image/png": "[encoded data removed]",
      "text/plain": [
       "<Figure size 1200x300 with 3 Axes>"
      ]
     },
     "metadata": {},
     "output_type": "display_data"
    }
   ],
   "source": [
    "import os\n",
    "from PIL import Image\n",
    "import numpy as np\n",
    "from sklearn.cluster import KMeans\n",
    "import matplotlib.pyplot as plt\n",
    "\n",
    "# 讀取檔案並且返回結果的字典\n",
    "directory = './output'\n",
    "base_filename = 'segment'\n",
    "result_dict = read_files_to_dict(directory, base_filename)\n",
    "\n",
    "# 多檔案讀取並處理的函數\n",
    "def read_files_to_dict(directory, base_filename, start_index=1):\n",
    "    result_dict = {}\n",
    "    index = start_index\n",
    "\n",
    "    while True:\n",
    "        file_path = os.path.join(directory, f\"{base_filename}_{index}_output.txt\")\n",
    "        \n",
    "        if not os.path.isfile(file_path):#找不到有這個名字的檔案時break\n",
    "            break\n",
    "        with open(file_path, 'r', encoding='utf-8') as file:\n",
    "            first_line = file.readline().strip()#讀取檔案的第一行並去除兩側的空白自符\n",
    "            first_line_split = first_line.split(':', 1)  # 只在第一次出現的':'進行分割\n",
    "            result = first_line_split[1].strip() if len(first_line_split) > 1 else None #會得到的結果就是'1 face'\n",
    "            \n",
    "            # 進一步分割結果以獲得'face'\n",
    "            final_result = result.split()[1] if result else None #以空格進行分割，取得分割後的第二個元素，如果result是空值就將final_result設為空值\n",
    "            result_dict[index] = final_result  # 儲存進字典\n",
    "            \n",
    "        index += 1#處理下一個檔案\n",
    "    return result_dict\n",
    "# 多圖片讀取並處理的函數    \n",
    "def load_images(directory, base_filename):\n",
    "    image_files = []\n",
    "    index = 1\n",
    "    \n",
    "    while True:\n",
    "        file_path = os.path.join(directory, f\"{base_filename}_{index}.png\")\n",
    "        \n",
    "        if not os.path.isfile(file_path):\n",
    "            break\n",
    "        \n",
    "        image_files.append(file_path)\n",
    "        index += 1\n",
    "    \n",
    "    images = [Image.open(image_file) for image_file in image_files]\n",
    "    \n",
    "    return images\n",
    "\n",
    "# 以k_means分析圖中佔比第二大的顏色(因為占比最大的顏色通常是背景，所以暫比第二大的顏色通常才是圖片的主要顏色)\n",
    "def get_second_dominant_color(image, k=4):\n",
    "    # Convert image to numpy array\n",
    "    img_np = np.array(image)\n",
    "    img_np = img_np.reshape((-1, 3))\n",
    "    \n",
    "    # Use KMeans 分析顏色\n",
    "    kmeans = KMeans(n_clusters=k, n_init=10)\n",
    "    kmeans.fit(img_np)\n",
    "    \n",
    "    # 根據樣本點找到個顏色分布\n",
    "    unique, counts = np.unique(kmeans.labels_, return_counts=True)\n",
    "    sorted_indices = np.argsort(counts)\n",
    "    \n",
    "    # 找出 K-means 聚類算法中第二主要顏色的代表值(找出第二大的群集)\n",
    "    second_dominant_color = kmeans.cluster_centers_[unique[sorted_indices[-2]]]\n",
    "    \n",
    "    return second_dominant_color.astype(int)\n",
    "\n",
    "# 把第二主要顏色的色碼加入list中\n",
    "second_dominant_colors = {str(i+1): get_second_dominant_color(img).tolist() for i, img in enumerate(images)}\n",
    "\n",
    "# 合併兩個字典，以結果描述作為鍵，顏色碼作為值\n",
    "combined_dict = {result_dict[key]: second_dominant_colors[str(key)] for key in result_dict}\n",
    "print(result_dict)\n",
    "print(combined_dict)\n",
    "\n",
    "# 根據combined_dict元素數量顯示顏色預覽\n",
    "fig, axs = plt.subplots(1, len(combined_dict), figsize=(12, 3))\n",
    "\n",
    "# 遍歷字典中的每個元素\n",
    "for ax, (title, color) in zip(axs, combined_dict.items()):\n",
    "    # 將顏色轉換為 numpy 數組並進行歸一化\n",
    "    color_array = np.array(color) / 255.0\n",
    "    \n",
    "    # 創建一個1x1的圖像顯示顏色\n",
    "    ax.imshow([[color_array]])\n",
    "    ax.set_title(f'{title}: {color}')\n",
    "    ax.axis('off')\n",
    "\n",
    "plt.show()\n"
   ]
  },
  {
   "cell_type": "code",
   "execution_count": null,
   "id": "059a539c-09f3-4765-a094-1b342c2902b3",
   "metadata": {},
   "outputs": [],
   "source": []
  }
 ],
 "metadata": {
  "kernelspec": {
   "display_name": "Python 3 (ipykernel)",
   "language": "python",
   "name": "python3"
  },
  "language_info": {
   "codemirror_mode": {
    "name": "ipython",
    "version": 3
   },
   "file_extension": ".py",
   "mimetype": "text/x-python",
   "name": "python",
   "nbconvert_exporter": "python",
   "pygments_lexer": "ipython3",
   "version": "3.11.7"
  }
 },
 "nbformat": 4,
 "nbformat_minor": 5
}
