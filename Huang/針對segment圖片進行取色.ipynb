{
 "cells": [
  {
   "cell_type": "code",
   "execution_count": 12,
   "id": "55478bcc-b43e-4c02-8847-465a37c9c406",
   "metadata": {},
   "outputs": [
    {
     "name": "stdout",
     "output_type": "stream",
     "text": [
      "{'1': [253, 224, 201], '2': [129, 97, 103], '3': [9, 53, 88], '4': [6, 50, 85]}\n"
     ]
    },
    {
     "data": {
      "image/png": "[encoded data removed]",
      "text/plain": [
       "<Figure size 1200x300 with 4 Axes>"
      ]
     },
     "metadata": {},
     "output_type": "display_data"
    }
   ],
   "source": [
    "from PIL import Image\n",
    "import numpy as np\n",
    "from sklearn.cluster import KMeans\n",
    "import matplotlib.pyplot as plt\n",
    "\n",
    "# 以迴圈載入圖片\n",
    "image_files = [\"segment_1.png\", \"segment_2.png\", \"segment_3.png\", \"segment_4.png\"]\n",
    "images = [Image.open(image_file) for image_file in image_files]\n",
    "\n",
    "# 以k_means分析圖中佔比第二大的顏色(因為占比最大的顏色通常是背景，所以暫比第二大的顏色通常才是圖片的主要顏色)\n",
    "def get_second_dominant_color(image, k=4):\n",
    "    # Convert image to numpy array\n",
    "    img_np = np.array(image)\n",
    "    img_np = img_np.reshape((-1, 3))\n",
    "    \n",
    "    # Use KMeans 分析顏色\n",
    "    kmeans = KMeans(n_clusters=k, n_init=10)\n",
    "    kmeans.fit(img_np)\n",
    "    \n",
    "    # 根據樣本點找到個顏色分布\n",
    "    unique, counts = np.unique(kmeans.labels_, return_counts=True)\n",
    "    sorted_indices = np.argsort(counts)\n",
    "    \n",
    "    # 找出 K-means 聚類算法中第二主要顏色的代表值(找出第二大的群集)\n",
    "    second_dominant_color = kmeans.cluster_centers_[unique[sorted_indices[-2]]]\n",
    "    \n",
    "    return second_dominant_color.astype(int)\n",
    "\n",
    "# 把第二主要顏色的色碼加入list中\n",
    "second_dominant_colors = {str(i+1): get_second_dominant_color(img).tolist() for i, img in enumerate(images)}\n",
    "\n",
    "print(second_dominant_colors)\n",
    "\n",
    "# 顯示顏色預覽\n",
    "fig, axs = plt.subplots(1, 4, figsize=(12, 3))\n",
    "titles = ['1', '2', '3', '4']\n",
    "\n",
    "for ax, title in zip(axs, titles):\n",
    "    color = np.array(second_dominant_colors[title]) / 255  # Convert color to numpy array and normalize\n",
    "    ax.imshow([[color]])\n",
    "    ax.set_title(f'{title}: {second_dominant_colors[title]}')\n",
    "    ax.axis('off')\n",
    "\n",
    "plt.show()\n"
   ]
  },
  {
   "cell_type": "code",
   "execution_count": null,
   "id": "e27787fd-0c35-40db-a4c9-85733b5dc124",
   "metadata": {},
   "outputs": [],
   "source": []
  }
 ],
 "metadata": {
  "kernelspec": {
   "display_name": "Python 3 (ipykernel)",
   "language": "python",
   "name": "python3"
  },
  "language_info": {
   "codemirror_mode": {
    "name": "ipython",
    "version": 3
   },
   "file_extension": ".py",
   "mimetype": "text/x-python",
   "name": "python",
   "nbconvert_exporter": "python",
   "pygments_lexer": "ipython3",
   "version": "3.11.7"
  }
 },
 "nbformat": 4,
 "nbformat_minor": 5
}
