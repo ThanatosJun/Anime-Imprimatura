{
 "cells": [
  {
   "cell_type": "code",
   "execution_count": 1,
   "id": "8426eb64",
   "metadata": {},
   "outputs": [
    {
     "name": "stdout",
     "output_type": "stream",
     "text": [
      "165 147\n"
     ]
    }
   ],
   "source": [
    "import cv2 as cv\n",
    "import numpy as np\n",
    "def fill_color_demo(image):\n",
    "    copyIma = image.copy()\n",
    "    h, w = image.shape[:2]#取得圖片的長寬\n",
    "    print(h, w)\n",
    "    mask = np.zeros([h+2, w+2], np.uint8)#遮罩要比圖片大兩個像素\n",
    "    cv.floodFill(copyIma, mask, (123, 93), (147, 112, 219), (100, 100, 100), (255,255,255), cv.FLOODFILL_FIXED_RANGE)#衣服\n",
    "    \"\"\"顏色後面的兩個值第一個：具體來說，對於起始點 (30, 30) 附近的像素，\n",
    "    如果其顏色與起始點的顏色的差異在 RGB 色彩空間中小於 (100, 100, 100)，則這些像素會被視為顏色相似，進而被填充。\n",
    "    如果其差異超過這個閾值，則不會被填充。\n",
    "    第二個：用於指定與起始點顏色之間的差異的最大值。如果目標像素的顏色與起始點的顏色之間的差異大於此閾值，則該像素不會被填充。\n",
    "    \n",
    "    cv.floodFill(copyIma, mask, (139, 85), (147, 112, 219), (100, 100, 100), (0,0,0), cv.FLOODFILL_FIXED_RANGE)#手臂\n",
    "    cv.floodFill(copyIma, mask, (95, 105), (147, 112, 219), (100, 100, 100), (0,0,0), cv.FLOODFILL_FIXED_RANGE)#手臂\n",
    "    cv.floodFill(copyIma, mask, (111, 125), (112, 25, 25), (100, 100, 100), (0,0,0), cv.FLOODFILL_FIXED_RANGE)#褲子\n",
    "    cv.floodFill(copyIma, mask, (125, 6), (139, 69, 19), (100, 100, 100), (0,0,0), cv.FLOODFILL_FIXED_RANGE)#頭髮\n",
    "    cv.floodFill(copyIma, mask, (102, 49), (139, 69, 19), (100, 100, 100), (0,0,0), cv.FLOODFILL_FIXED_RANGE)#頭髮\n",
    "    cv.floodFill(copyIma, mask, (99, 38), (139, 69, 19), (150, 150, 150), (255,255,255), cv.FLOODFILL_FIXED_RANGE)#頭髮\n",
    "    cv.floodFill(copyIma, mask, (142, 49), (139, 69, 19), (150, 150, 150), (255,255,255), cv.FLOODFILL_FIXED_RANGE)#頭髮部份太細，無法上色\n",
    "    cv.floodFill(copyIma, mask, (114, 27), (213, 239, 255), (100, 100, 100), (0,0,0), cv.FLOODFILL_FIXED_RANGE)\n",
    "    cv.floodFill(copyIma, mask, (126, 33), (237, 149, 100), (150, 150, 150), (255,255,255), cv.FLOODFILL_FIXED_RANGE)#眼睛\n",
    "    cv.floodFill(copyIma, mask, (107, 33), (237, 149, 100), (150, 150, 150), (255,255,255), cv.FLOODFILL_FIXED_RANGE)#眼睛太小不好填\n",
    "    cv.floodFill(copyIma, mask, (113, 175), (20, 105, 139), (150, 150, 150), (255,255,255), cv.FLOODFILL_FIXED_RANGE)#鞋子\n",
    "    cv.floodFill(copyIma, mask, (129, 175), (20, 105, 139), (150, 150, 150), (255,255,255), cv.FLOODFILL_FIXED_RANGE)#鞋子\n",
    "    \"\"\"\n",
    "    cv.imshow(\"fill_color\", copyIma)\n",
    "\n",
    "src = cv.imread(\"./boy_sketch.png\")\n",
    "cv.namedWindow(\"input image\", cv.WINDOW_AUTOSIZE)\n",
    "cv.imshow(\"input image\", src)\n",
    "fill_color_demo(src)\n",
    "\n",
    "cv.waitKey(0)\n",
    "cv.destroyAllWindows()\n",
    "#建一個dictionary，在取色的地方儲存位置與顏色，然後連到上色部分，將dictionary對應的位置與顏色丟到floodfill上色。"
   ]
  },
  {
   "cell_type": "code",
   "execution_count": 2,
   "id": "78735815",
   "metadata": {},
   "outputs": [],
   "source": [
    "import cv2\n",
    "\n",
    "# 滑鼠事件回調函數\n",
    "def mouse_event(event, x, y, flags, param):\n",
    "    if event == cv2.EVENT_LBUTTONDOWN:\n",
    "        print(f\"點擊位置的座標：({x}, {y})\")\n",
    "        cv2.circle(image_with_coordinates, (x, y), 5, (0, 255, 0), -1)  # 在點擊位置繪製一個綠色的圓圈\n",
    "        cv2.imshow('Image with Coordinates', image_with_coordinates)\n",
    "\n",
    "# 讀取圖片\n",
    "image = cv2.imread('./boy_sketch.png')\n",
    "image_with_coordinates = image.copy()\n",
    "\n",
    "# 顯示圖片\n",
    "cv2.imshow('Image with Coordinates', image_with_coordinates)\n",
    "\n",
    "# 設置滑鼠事件回調函數\n",
    "cv2.setMouseCallback('Image with Coordinates', mouse_event)\n",
    "\n",
    "# 等待用戶關閉視窗\n",
    "cv2.waitKey(0)\n",
    "cv2.destroyAllWindows()\n"
   ]
  },
  {
   "cell_type": "code",
   "execution_count": null,
   "id": "be588f70",
   "metadata": {},
   "outputs": [],
   "source": []
  }
 ],
 "metadata": {
  "kernelspec": {
   "display_name": "Python 3 (ipykernel)",
   "language": "python",
   "name": "python3"
  },
  "language_info": {
   "codemirror_mode": {
    "name": "ipython",
    "version": 3
   },
   "file_extension": ".py",
   "mimetype": "text/x-python",
   "name": "python",
   "nbconvert_exporter": "python",
   "pygments_lexer": "ipython3",
   "version": "3.9.18"
  }
 },
 "nbformat": 4,
 "nbformat_minor": 5
}
