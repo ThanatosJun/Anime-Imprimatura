{
 "cells": [
  {
   "cell_type": "code",
   "execution_count": 1,
   "id": "cc80a2a3",
   "metadata": {},
   "outputs": [],
   "source": [
    "import cv2 as cv\n",
    "import numpy as np\n",
    "import pandas as pd\n",
    "\n",
    "# 取色後RGB值的字典\n",
    "color_dictionary = {}\n",
    "\n",
    "\n",
    "# 上色函數\n",
    "def fill_color_demo(sketch, color_dictionary):\n",
    "    copyIma = sketch.copy()\n",
    "    h, w = sketch.shape[:2]\n",
    "    mask = np.zeros([h+2, w+2], np.uint8)\n",
    "    for position, rgb in color_dictionary.items():\n",
    "        x, y = position\n",
    "        r, g, b = rgb\n",
    "        cv.floodFill(copyIma, mask, (x, y), (int(b), int(g), int(r)), (100, 100, 100), (100,100,100), cv.FLOODFILL_FIXED_RANGE)\n",
    "    cv.imshow(\"Filled Sketch\", copyIma)\n",
    "\n",
    "# 主程序\n",
    "original_color = cv.imread(\"./girl_original.png\")\n",
    "sketch = cv.imread(\"./girl_sketch.jpg\")\n",
    "cv.namedWindow(\"Original Color\", cv.WINDOW_AUTOSIZE)\n",
    "cv.imshow(\"Original Color\", original_color)\n",
    "\n",
    "\n",
    "# 滑鼠事件處理函數\n",
    "def click_info(event, x, y, flags, param):\n",
    "    global color_dictionary\n",
    "    if event == cv.EVENT_LBUTTONDBLCLK:#滑鼠是否為左鍵雙擊\n",
    "        img = param  #  param 是 cv.setMouseCallback() 函數傳遞的原始彩色圖片。\n",
    "        b, g, r = img[y, x]#獲得BGR值\n",
    "        color_dictionary[(x, y)] = (r, g, b)#把在girl_original取的顏色RGB值存入字典中，這樣可以將彩色圖片上選擇的顏色與點擊的位置進行關聯\n",
    "        fill_color_demo(sketch, color_dictionary)#將顏色字典的顏色應用到Sketch中\n",
    "\n",
    "# 設置滑鼠事件處理參數，並傳遞原始顏色參數\n",
    "cv.setMouseCallback('Original Color', click_info, original_color)\n",
    "\n",
    "cv.waitKey(0)\n",
    "cv.destroyAllWindows()\n"
   ]
  },
  {
   "cell_type": "code",
   "execution_count": null,
   "id": "1f2ca027",
   "metadata": {},
   "outputs": [],
   "source": []
  },
  {
   "cell_type": "code",
   "execution_count": null,
   "id": "86f7c978",
   "metadata": {},
   "outputs": [],
   "source": []
  },
  {
   "cell_type": "code",
   "execution_count": null,
   "id": "ba4fb963",
   "metadata": {},
   "outputs": [],
   "source": []
  }
 ],
 "metadata": {
  "kernelspec": {
   "display_name": "Python 3 (ipykernel)",
   "language": "python",
   "name": "python3"
  },
  "language_info": {
   "codemirror_mode": {
    "name": "ipython",
    "version": 3
   },
   "file_extension": ".py",
   "mimetype": "text/x-python",
   "name": "python",
   "nbconvert_exporter": "python",
   "pygments_lexer": "ipython3",
   "version": "3.9.18"
  }
 },
 "nbformat": 4,
 "nbformat_minor": 5
}
